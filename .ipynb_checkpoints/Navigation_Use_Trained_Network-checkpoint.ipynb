{
 "cells": [
  {
   "cell_type": "code",
   "execution_count": 1,
   "id": "prescription-parker",
   "metadata": {},
   "outputs": [],
   "source": [
    "#import the important libaries\n",
    "from unityagents import UnityEnvironment\n",
    "import numpy as np\n",
    "import torch\n",
    "from collections import deque\n",
    "import matplotlib.pyplot as plt\n",
    "%matplotlib inline\n",
    "from agent_navigation import Agent\n",
    "import time\n",
    "import random"
   ]
  },
  {
   "cell_type": "code",
   "execution_count": 2,
   "id": "recovered-bulgarian",
   "metadata": {},
   "outputs": [],
   "source": [
    "#definition hyperparameters and trainingsconditions\n",
    "max_episodes = 2\n",
    "max_timestaps = 20\n",
    "training_mode = False\n",
    "gamma = 0.99\n",
    "use_trained_agent = True\n",
    "\n",
    "#environment parameters\n",
    "state_size = 37\n",
    "action_size = 4\n",
    "seed = 0"
   ]
  },
  {
   "cell_type": "code",
   "execution_count": 3,
   "id": "ranking-trance",
   "metadata": {},
   "outputs": [
    {
     "name": "stderr",
     "output_type": "stream",
     "text": [
      "INFO:unityagents:\n",
      "'Academy' started successfully!\n",
      "Unity Academy name: Academy\n",
      "        Number of Brains: 1\n",
      "        Number of External Brains : 1\n",
      "        Lesson number : 0\n",
      "        Reset Parameters :\n",
      "\t\t\n",
      "Unity brain name: BananaBrain\n",
      "        Number of Visual Observations (per agent): 0\n",
      "        Vector Observation space type: continuous\n",
      "        Vector Observation space size (per agent): 37\n",
      "        Number of stacked Vector Observation: 1\n",
      "        Vector Action space type: discrete\n",
      "        Vector Action space size (per agent): 4\n",
      "        Vector Action descriptions: , , , \n"
     ]
    }
   ],
   "source": [
    "#define the environment\n",
    "env = UnityEnvironment(file_name=\"Banana_Linux/Banana.x86_64\")\n",
    "\n",
    "#get the default brain\n",
    "brain_name = env.brain_names[0]\n",
    "brain = env.brains[brain_name]\n",
    "\n",
    "#get number of possible actions\n",
    "action_size = brain.vector_action_space_size"
   ]
  },
  {
   "cell_type": "code",
   "execution_count": 4,
   "id": "republican-links",
   "metadata": {},
   "outputs": [
    {
     "name": "stdout",
     "output_type": "stream",
     "text": [
      "Episode 2\tAverage Score: 0.00"
     ]
    },
    {
     "data": {
      "image/png": "[encoded data removed]",
      "text/plain": [
       "<Figure size 432x288 with 1 Axes>"
      ]
     },
     "metadata": {
      "needs_background": "light"
     },
     "output_type": "display_data"
    }
   ],
   "source": [
    "#define an agent\n",
    "agent = Agent(state_size, action_size, seed, use_trained_agent)\n",
    "\n",
    "#use trained agent\n",
    "def dqn_agent(n_episodes, max_t):\n",
    "    \"\"\"Use Agent trained with Deep Q-Learning\n",
    "    \n",
    "    Params\n",
    "    ======\n",
    "        n_episodes (int): maximum number of training episodes\n",
    "        max_t (int): maximum number of timesteps per episode\n",
    "    \"\"\"\n",
    "    #list containing scores from each episode\n",
    "    scores = []\n",
    "    #last 100 scores\n",
    "    scores_window = deque(maxlen=100)\n",
    "    for i_episode in range(1, n_episodes+1):\n",
    "        #reset the environment\n",
    "        env_info = env.reset(train_mode=training_mode)[brain_name]\n",
    "        state = env_info.vector_observations[0]\n",
    "        score = 0\n",
    "        for t in range(max_t):\n",
    "            #select an action\n",
    "            #action = np.random.randint(action_size)\n",
    "            action = agent.act(state)\n",
    "            #send the action to the environment\n",
    "            env_info = env.step(action)[brain_name]  \n",
    "            #get the next state\n",
    "            next_state = env_info.vector_observations[0]\n",
    "            # get the reward\n",
    "            reward = env_info.rewards[0]\n",
    "            #see if episode has finished\n",
    "            done = env_info.local_done[0]\n",
    "            #update the score\n",
    "            score += reward\n",
    "            #roll over the state to next time step\n",
    "            state = next_state\n",
    "            # exit loop if episode finished\n",
    "            if done:\n",
    "                break\n",
    "        #save most recent score\n",
    "        scores_window.append(score)\n",
    "        #save most recent score\n",
    "        scores.append(score)\n",
    "        print('\\rEpisode {}\\tAverage Score: {:.2f}'.format(i_episode, np.mean(scores_window)), end=\"\")\n",
    "    return scores\n",
    "            \n",
    "scores = dqn_agent(max_episodes, max_timestaps)\n",
    "\n",
    "#plot the scores\n",
    "fig = plt.figure()\n",
    "ax = fig.add_subplot(111)\n",
    "plt.plot(np.arange(len(scores)), scores)\n",
    "plt.ylabel('Score')\n",
    "plt.xlabel('Episode')\n",
    "plt.show()"
   ]
  },
  {
   "cell_type": "code",
   "execution_count": 5,
   "id": "caroline-leader",
   "metadata": {},
   "outputs": [],
   "source": [
    "#close the environment\n",
    "env.close()"
   ]
  }
 ],
 "metadata": {
  "kernelspec": {
   "display_name": "Python 3",
   "language": "python",
   "name": "python3"
  },
  "language_info": {
   "codemirror_mode": {
    "name": "ipython",
    "version": 3
   },
   "file_extension": ".py",
   "mimetype": "text/x-python",
   "name": "python",
   "nbconvert_exporter": "python",
   "pygments_lexer": "ipython3",
   "version": "3.6.12"
  }
 },
 "nbformat": 4,
 "nbformat_minor": 5
}
