{
 "cells": [
  {
   "cell_type": "code",
   "execution_count": 1,
   "id": "ignored-athletics",
   "metadata": {},
   "outputs": [],
   "source": [
    "#import the important libaries\n",
    "from unityagents import UnityEnvironment\n",
    "import numpy as np\n",
    "import torch\n",
    "from collections import deque\n",
    "import matplotlib.pyplot as plt\n",
    "%matplotlib inline\n",
    "from agent_navigation import Agent\n",
    "import time\n",
    "import random"
   ]
  },
  {
   "cell_type": "code",
   "execution_count": 2,
   "id": "treated-designer",
   "metadata": {},
   "outputs": [],
   "source": [
    "#definition hyperparameters and trainingsconditions\n",
    "max_episodes = 500\n",
    "max_timestaps = 1000\n",
    "max_epsilon = 1.0\n",
    "min_epsilon = 0.01\n",
    "epsilon_decay = 0.995\n",
    "training_mode = True\n",
    "gamma = 0.99\n",
    "use_trained_agent = False\n",
    "\n",
    "#environment parameters\n",
    "state_size = 37\n",
    "action_size = 4\n",
    "seed = 0"
   ]
  },
  {
   "cell_type": "code",
   "execution_count": 3,
   "id": "favorite-street",
   "metadata": {},
   "outputs": [
    {
     "name": "stderr",
     "output_type": "stream",
     "text": [
      "INFO:unityagents:\n",
      "'Academy' started successfully!\n",
      "Unity Academy name: Academy\n",
      "        Number of Brains: 1\n",
      "        Number of External Brains : 1\n",
      "        Lesson number : 0\n",
      "        Reset Parameters :\n",
      "\t\t\n",
      "Unity brain name: BananaBrain\n",
      "        Number of Visual Observations (per agent): 0\n",
      "        Vector Observation space type: continuous\n",
      "        Vector Observation space size (per agent): 37\n",
      "        Number of stacked Vector Observation: 1\n",
      "        Vector Action space type: discrete\n",
      "        Vector Action space size (per agent): 4\n",
      "        Vector Action descriptions: , , , \n"
     ]
    }
   ],
   "source": [
    "#define the environment\n",
    "env = UnityEnvironment(file_name=\"Banana_Linux/Banana.x86_64\")\n",
    "\n",
    "#get the default brain\n",
    "brain_name = env.brain_names[0]\n",
    "brain = env.brains[brain_name]\n",
    "\n",
    "#get number of possible actions\n",
    "action_size = brain.vector_action_space_size"
   ]
  },
  {
   "cell_type": "code",
   "execution_count": 4,
   "id": "broke-parking",
   "metadata": {
    "scrolled": true
   },
   "outputs": [
    {
     "name": "stdout",
     "output_type": "stream",
     "text": [
      "Episode 100\tAverage Score: 2.38\n",
      "Episode 200\tAverage Score: 4.61\n",
      "Episode 300\tAverage Score: 9.93\n",
      "Episode 382\tAverage Score: 13.05\n",
      "Environment solved in 382 episodes!\tAverage Score: 13.05\n",
      "Episode 400\tAverage Score: 13.49\n",
      "Episode 500\tAverage Score: 15.47\n"
     ]
    },
    {
     "data": {
      "image/png": "[encoded data removed]",
      "text/plain": [
       "<Figure size 432x288 with 1 Axes>"
      ]
     },
     "metadata": {
      "needs_background": "light"
     },
     "output_type": "display_data"
    }
   ],
   "source": [
    "#define an agent\n",
    "agent = Agent(state_size, action_size, seed, use_trained_agent)\n",
    "\n",
    "#counter to print envirement sloved only once\n",
    "counter = 0\n",
    "\n",
    "#train the agent\n",
    "def dqn_train(n_episodes, max_t, eps_start, eps_end, eps_decay):\n",
    "    \"\"\"Deep Q-Learning.\n",
    "    \n",
    "    Params\n",
    "    ======\n",
    "        n_episodes (int): maximum number of training episodes\n",
    "        max_t (int): maximum number of timesteps per episode\n",
    "        eps_start (float): starting value of epsilon, for epsilon-greedy action selection\n",
    "        eps_end (float): minimum value of epsilon\n",
    "        eps_decay (float): multiplicative factor (per episode) for decreasing epsilon\n",
    "    \"\"\"\n",
    "    #list containing scores from each episode\n",
    "    scores = []\n",
    "    #last 100 scores\n",
    "    scores_window = deque(maxlen=100)\n",
    "    #initialize epsilon\n",
    "    eps = eps_start\n",
    "    for i_episode in range(1, n_episodes+1):\n",
    "        global counter\n",
    "        #reset the environment\n",
    "        env_info = env.reset(train_mode=training_mode)[brain_name]\n",
    "        state = env_info.vector_observations[0]\n",
    "        score = 0\n",
    "        for t in range(max_t):\n",
    "            #select an action\n",
    "            action = agent.act(state)\n",
    "            #send the action to the environment\n",
    "            env_info = env.step(action)[brain_name]  \n",
    "            #get the next state\n",
    "            next_state = env_info.vector_observations[0]\n",
    "            # get the reward\n",
    "            reward = env_info.rewards[0]\n",
    "            #see if episode has finished\n",
    "            done = env_info.local_done[0]\n",
    "            #save step in memory and learn from this step\n",
    "            agent.step(state, action, reward, next_state, done)\n",
    "            #update the score\n",
    "            score += reward\n",
    "            #roll over the state to next time step\n",
    "            state = next_state\n",
    "            # exit loop if episode finished\n",
    "            if done:\n",
    "                break\n",
    "        #save most recent score\n",
    "        scores_window.append(score)\n",
    "        #save most recent score\n",
    "        scores.append(score)\n",
    "        #decrease epsilon\n",
    "        eps = max(eps_end, eps_decay*eps)\n",
    "        print('\\rEpisode {}\\tAverage Score: {:.2f}'.format(i_episode, np.mean(scores_window)), end=\"\")\n",
    "        if i_episode % 100 == 0:\n",
    "            print('\\rEpisode {}\\tAverage Score: {:.2f}'.format(i_episode, np.mean(scores_window)))\n",
    "        if np.mean(scores_window)>=13 and counter == 0:\n",
    "            print('\\nEnvironment solved in {:d} episodes!\\tAverage Score: {:.2f}'.format(i_episode, np.mean(scores_window)))\n",
    "            counter = 1\n",
    "    return scores\n",
    "\n",
    "torch.save(agent.qnetwork_local.state_dict(), 'trained-network.pth')\n",
    "scores = dqn_train(max_episodes, max_timestaps, max_epsilon, min_epsilon, epsilon_decay)\n",
    "\n",
    "#plot the scores\n",
    "fig = plt.figure()\n",
    "ax = fig.add_subplot(111)\n",
    "plt.plot(np.arange(len(scores)), scores)\n",
    "plt.ylabel('Score')\n",
    "plt.xlabel('Episode')\n",
    "plt.show()"
   ]
  },
  {
   "cell_type": "code",
   "execution_count": 5,
   "id": "rough-withdrawal",
   "metadata": {},
   "outputs": [],
   "source": [
    "#close the environment\n",
    "env.close()"
   ]
  }
 ],
 "metadata": {
  "kernelspec": {
   "display_name": "Python 3",
   "language": "python",
   "name": "python3"
  },
  "language_info": {
   "codemirror_mode": {
    "name": "ipython",
    "version": 3
   },
   "file_extension": ".py",
   "mimetype": "text/x-python",
   "name": "python",
   "nbconvert_exporter": "python",
   "pygments_lexer": "ipython3",
   "version": "3.6.12"
  }
 },
 "nbformat": 4,
 "nbformat_minor": 5
}
